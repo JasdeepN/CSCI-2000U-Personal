{
 "cells": [
  {
   "cell_type": "code",
   "execution_count": 40,
   "metadata": {
    "collapsed": true
   },
   "outputs": [],
   "source": [
    "%matplotlib inline\n",
    "import numpy as np\n",
    "import math"
   ]
  },
  {
   "cell_type": "code",
   "execution_count": 45,
   "metadata": {
    "collapsed": false,
    "scrolled": true
   },
   "outputs": [
    {
     "name": "stdout",
     "output_type": "stream",
     "text": [
      "('the most recent sunspot observations were on ', (2015, 5, 31))\n",
      "('mean: ', 51.31169731768883)\n"
     ]
    }
   ],
   "source": [
    "dt = np.dtype([('category', 'U15'), ('lat', float), ('long', float), ('cases', float)])\n",
    "data = np.recfromcsv('ISSN_D_tot.csv', delimiter=',')\n",
    "r = np.size(data)-1\n",
    "m = data[r]\n",
    "n = (m[0], m[1], m[2])\n",
    "print('the most recent sunspot observations were on ', n)\n",
    "\n",
    "mean = 0.0\n",
    "\n",
    "for i in range(len(data)):\n",
    "    m = data[i]\n",
    "    n = m[4]\n",
    "    mean = mean + n\n",
    "\n",
    "result = mean/r\n",
    "\n",
    "print ('mean: ', result)\n",
    "\n"
   ]
  },
  {
   "cell_type": "code",
   "execution_count": null,
   "metadata": {
    "collapsed": true
   },
   "outputs": [],
   "source": []
  },
  {
   "cell_type": "code",
   "execution_count": null,
   "metadata": {
    "collapsed": true
   },
   "outputs": [],
   "source": []
  }
 ],
 "metadata": {
  "kernelspec": {
   "display_name": "Python 2",
   "language": "python",
   "name": "python2"
  },
  "language_info": {
   "codemirror_mode": {
    "name": "ipython",
    "version": 2
   },
   "file_extension": ".py",
   "mimetype": "text/x-python",
   "name": "python",
   "nbconvert_exporter": "python",
   "pygments_lexer": "ipython2",
   "version": "2.7.10"
  }
 },
 "nbformat": 4,
 "nbformat_minor": 0
}
