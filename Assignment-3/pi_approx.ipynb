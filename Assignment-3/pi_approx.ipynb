{
 "cells": [
  {
   "cell_type": "code",
   "execution_count": 34,
   "metadata": {
    "collapsed": false
   },
   "outputs": [
    {
     "name": "stdout",
     "output_type": "stream",
     "text": [
      "rho(10.000000)= 3.041840\n",
      "tau(10.000000)= 3.049362\n",
      "tau(10.000000)= 3.141385\n",
      "rho(100.000000)= 3.131593\n",
      "tau(100.000000)= 3.132077\n",
      "tau(100.000000)= 3.141592\n",
      "rho(1000.000000)= 3.140593\n",
      "tau(1000.000000)= 3.140638\n",
      "tau(1000.000000)= 3.141593\n",
      "rho(10000.000000)= 3.141493\n",
      "tau(10000.000000)= 3.141497\n",
      "tau(10000.000000)= 3.141593\n",
      "rho(100000.000000)= 3.141583\n",
      "tau(100000.000000)= 3.141583\n",
      "tau(100000.000000)= 3.141593\n",
      "rho(1000000.000000)= 3.141592\n",
      "tau(1000000.000000)= 3.141592\n",
      "tau(1000000.000000)= 3.141593\n"
     ]
    }
   ],
   "source": [
    "#Jasdeep Nijjar 100493157\n",
    "import math #import math for math.pow(x,y)\n",
    "\n",
    "#rho fucntion n = iter\n",
    "def rho_n(iter):\n",
    "    sum = 0\n",
    "    n = 0\n",
    "    for x in range(0, iter):\n",
    "        n = n + 1\n",
    "        #print (\"Count\", n)\n",
    "        sum = sum + math.pow(-1,(n+1))/((2*n)-1)   \n",
    "    print \"rho(%f)= %f\" % (iter, sum*4)\n",
    "\n",
    "#tau funtion n = iter\n",
    "def tau_n(iter):\n",
    "    sum = 0\n",
    "    n = 0\n",
    "    for x in range(0, iter):\n",
    "        n = n + 1\n",
    "        #print (\"Count\", n)\n",
    "        sum = sum + (1/(math.pow(n, 2)))\n",
    "    total = math.pow(6*sum, 0.5)     \n",
    "    print \"tau(%f)= %f\" % (iter, total)\n",
    "\n",
    "#mu function n = iter   \n",
    "def mu_n(iter):\n",
    "    sum = 0\n",
    "    n = 0\n",
    "    for x in range(0, iter):\n",
    "        n = n + 1\n",
    "        #print (\"Count\", n)\n",
    "        sum = sum + (1/(math.pow(n, 4)))\n",
    "    total = math.pow(90*sum, 0.25)     \n",
    "    print \"tau(%f)= %f\" % (iter, total)\n",
    "    \n",
    "rho_n(10)\n",
    "tau_n(10)\n",
    "mu_n(10)\n",
    "\n",
    "rho_n(100)\n",
    "tau_n(100)\n",
    "mu_n(100)\n",
    "\n",
    "rho_n(1000)\n",
    "tau_n(1000)\n",
    "mu_n(1000)\n",
    "\n",
    "rho_n(10000)\n",
    "tau_n(10000)\n",
    "mu_n(10000)\n",
    "\n",
    "rho_n(100000)\n",
    "tau_n(100000)\n",
    "mu_n(100000)\n",
    "\n",
    "rho_n(1000000)\n",
    "tau_n(1000000)\n",
    "mu_n(1000000)"
   ]
  },
  {
   "cell_type": "code",
   "execution_count": null,
   "metadata": {
    "collapsed": true
   },
   "outputs": [],
   "source": []
  },
  {
   "cell_type": "code",
   "execution_count": null,
   "metadata": {
    "collapsed": true
   },
   "outputs": [],
   "source": []
  }
 ],
 "metadata": {
  "kernelspec": {
   "display_name": "Python 2",
   "language": "python",
   "name": "python2"
  },
  "language_info": {
   "codemirror_mode": {
    "name": "ipython",
    "version": 2
   },
   "file_extension": ".py",
   "mimetype": "text/x-python",
   "name": "python",
   "nbconvert_exporter": "python",
   "pygments_lexer": "ipython2",
   "version": "2.7.10"
  }
 },
 "nbformat": 4,
 "nbformat_minor": 0
}
