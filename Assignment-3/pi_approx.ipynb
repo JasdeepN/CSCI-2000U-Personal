{
 "cells": [
  {
   "cell_type": "code",
   "execution_count": 15,
   "metadata": {
    "collapsed": false
   },
   "outputs": [
    {
     "ename": "SyntaxError",
     "evalue": "invalid syntax (<ipython-input-15-67356da31953>, line 13)",
     "output_type": "error",
     "traceback": [
      "\u001b[1;36m  File \u001b[1;32m\"<ipython-input-15-67356da31953>\"\u001b[1;36m, line \u001b[1;32m13\u001b[0m\n\u001b[1;33m    print (%d sum*4)\u001b[0m\n\u001b[1;37m           ^\u001b[0m\n\u001b[1;31mSyntaxError\u001b[0m\u001b[1;31m:\u001b[0m invalid syntax\n"
     ]
    }
   ],
   "source": [
    "#Jasdeep Nijjar 100493157\n",
    "import math\n",
    "\n",
    "def rho_n(iter):\n",
    "    sum = 0\n",
    "    n = 0\n",
    "    for x in range(0, iter):\n",
    "        n = n + 1\n",
    "        #print (\"Count\", n)\n",
    "        sum = sum + math.pow(-1,(n+1))/((2*n)-1)\n",
    "\n",
    "     \n",
    "    print \"rho(%f)= %f\" % (iter, sum)\n",
    "    \n",
    "rho_n(10)\n",
    "rho_n(100)\n",
    "rho_n(1000)\n"
   ]
  },
  {
   "cell_type": "code",
   "execution_count": null,
   "metadata": {
    "collapsed": true
   },
   "outputs": [],
   "source": []
  }
 ],
 "metadata": {
  "kernelspec": {
   "display_name": "Python 2",
   "language": "python",
   "name": "python2"
  },
  "language_info": {
   "codemirror_mode": {
    "name": "ipython",
    "version": 2
   },
   "file_extension": ".py",
   "mimetype": "text/x-python",
   "name": "python",
   "nbconvert_exporter": "python",
   "pygments_lexer": "ipython2",
   "version": "2.7.10"
  }
 },
 "nbformat": 4,
 "nbformat_minor": 0
}
