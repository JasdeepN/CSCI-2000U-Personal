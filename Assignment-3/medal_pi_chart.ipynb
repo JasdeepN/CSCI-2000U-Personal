{
 "cells": [
  {
   "cell_type": "code",
   "execution_count": 9,
   "metadata": {
    "collapsed": false
   },
   "outputs": [],
   "source": [
    "#Jasdeep Nijjar 100493157\n",
    "\n",
    "import matplotlib.pyplot as plt\n",
    "\n",
    "countries = (\"USA\", \"CHN\", \"GBR\", \"RUS\", \"KOR\", \"GER\", \"FRA\", \"ITA\", \"HUN\", \"AUS\", \"OTHER\")\n",
    "\n",
    "scores = (46, 38, 29, 24, 13, 11, 11, 8, 8, 7, 107)\n",
    "\n",
    "explode = (0.15, 0.2, 0.2, 0.2, 0.2, 0.2, 0.2, 0.2, 0.2, 0.2, 0.2)\n",
    "\n",
    "plt.pie(scores, explode=explode, labels=countries,colors=('#208abc', '#32687b', '#6e142f', '#6dce5d', '#667162', '#06141e', '#d9818e', '#ff0000'))\n",
    "\n",
    "plt.title('2012 Olyimpic Gold Medals (100493157)', bbox={'facecolor':'0.8', 'pad':5})\n",
    "\n",
    "plt.show()"
   ]
  },
  {
   "cell_type": "code",
   "execution_count": null,
   "metadata": {
    "collapsed": true
   },
   "outputs": [],
   "source": []
  },
  {
   "cell_type": "code",
   "execution_count": null,
   "metadata": {
    "collapsed": true
   },
   "outputs": [],
   "source": []
  }
 ],
 "metadata": {
  "kernelspec": {
   "display_name": "Python 2",
   "language": "python",
   "name": "python2"
  },
  "language_info": {
   "codemirror_mode": {
    "name": "ipython",
    "version": 2
   },
   "file_extension": ".py",
   "mimetype": "text/x-python",
   "name": "python",
   "nbconvert_exporter": "python",
   "pygments_lexer": "ipython2",
   "version": "2.7.10"
  }
 },
 "nbformat": 4,
 "nbformat_minor": 0
}
