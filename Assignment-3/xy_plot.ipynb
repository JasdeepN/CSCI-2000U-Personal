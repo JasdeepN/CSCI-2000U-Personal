{
 "cells": [
  {
   "cell_type": "code",
   "execution_count": 1,
   "metadata": {
    "collapsed": false
   },
   "outputs": [],
   "source": [
    "#Jasdeep Nijjar 100493157\n",
    "\n",
    "import numpy as np\n",
    "import matplotlib.pyplot as plt\n",
    "\n",
    "xdata, ydata = np.loadtxt(\"xy_points.dat\")\n",
    "\n",
    "\n",
    "\n",
    "#if (xdata < -2 and -5 <= ydata and ydata >= 0  ):\n",
    "#    plt.scatter(xdata, ydata, color='blue')\n",
    "#    #print ('blue', xdata[x], ydata[y])\n",
    "#else:\n",
    "#     plt.scatter(xdata, ydata, color='red')\n",
    "#     #print ('red', xdata[x], ydata[y])\n",
    "       \n",
    "\n",
    "\n",
    "plt.show()"
   ]
  },
  {
   "cell_type": "code",
   "execution_count": null,
   "metadata": {
    "collapsed": true
   },
   "outputs": [],
   "source": []
  },
  {
   "cell_type": "code",
   "execution_count": null,
   "metadata": {
    "collapsed": true
   },
   "outputs": [],
   "source": []
  },
  {
   "cell_type": "code",
   "execution_count": null,
   "metadata": {
    "collapsed": true
   },
   "outputs": [],
   "source": []
  }
 ],
 "metadata": {
  "kernelspec": {
   "display_name": "Python 2",
   "language": "python",
   "name": "python2"
  },
  "language_info": {
   "codemirror_mode": {
    "name": "ipython",
    "version": 2
   },
   "file_extension": ".py",
   "mimetype": "text/x-python",
   "name": "python",
   "nbconvert_exporter": "python",
   "pygments_lexer": "ipython2",
   "version": "2.7.10"
  }
 },
 "nbformat": 4,
 "nbformat_minor": 0
}
