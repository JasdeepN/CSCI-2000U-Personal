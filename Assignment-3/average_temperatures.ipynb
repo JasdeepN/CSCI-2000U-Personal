{
 "cells": [
  {
   "cell_type": "code",
   "execution_count": 18,
   "metadata": {
    "collapsed": false
   },
   "outputs": [],
   "source": [
    "#Jasdeep Nijjar 100493157\n",
    "\n",
    "import numpy as np\n",
    "import matplotlib.pyplot as plt\n",
    "import matplotlib.patches as mpatches\n",
    "\n",
    "#import data\n",
    "tor_data = np.loadtxt(\"toronto_temperature_2012.dat\")\n",
    "mon_data = np.loadtxt(\"montreal_temperature_2012.dat\")\n",
    "van_data = np.loadtxt(\"vancouver_temperature_2012.dat\")\n",
    "\n",
    "#make month (number) array\n",
    "month_array = [1, 2, 3, 4, 5, 6, 7, 8, 9, 10, 11, 12]\n",
    "\n",
    "#set axis bounds\n",
    "plt.axis([0, 13, -10, 25])\n",
    "\n",
    "labels = [\"Jan\", \"Feb\", \"Mar\", \"Apr\", \"May\", \"Jun\", \"Jul\", \"Aug\", \"Sep\", \"Oct\", \"Nov\", \"Dec\"]\n",
    "\n",
    "#set axis labels to 3 letter abriv.\n",
    "plt.xticks(month_array, labels)\n",
    "\n",
    "#plot data on graph\n",
    "plt.plot(month_array, tor_data, 'r-')\n",
    "plt.plot(month_array, mon_data, 'b-')\n",
    "plt.plot(month_array, van_data, 'g-')\n",
    "\n",
    "#add legend to graph             \n",
    "red_patch = mpatches.Patch(color='red', label='Toronto')\n",
    "blue_patch = mpatches.Patch(color='blue', label='Montreal')\n",
    "green_patch = mpatches.Patch(color='green', label='Vancouver')\n",
    "\n",
    "plt.legend(handles=[red_patch, blue_patch, green_patch])\n",
    "  \n",
    "#set font size and axis labels    \n",
    "plt.title('2012 average monthly temperatures (100493157)')\n",
    "plt.xlabel('Month', fontsize=12)\n",
    "plt.ylabel('Avg. Temperature in degrees C', fontsize=12)\n",
    "plt.show()"
   ]
  }
 ],
 "metadata": {
  "kernelspec": {
   "display_name": "Python 2",
   "language": "python",
   "name": "python2"
  }
 },
 "nbformat": 4,
 "nbformat_minor": 0
}
