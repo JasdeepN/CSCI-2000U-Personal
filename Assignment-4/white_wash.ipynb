{
 "cells": [
  {
   "cell_type": "code",
   "execution_count": 30,
   "metadata": {
    "collapsed": false
   },
   "outputs": [
    {
     "name": "stdout",
     "output_type": "stream",
     "text": [
      "before whitewash\n",
      "[[ 0.85681128  0.04609223  0.8799532 ]\n",
      " [ 0.85774173  0.7577921   0.08168001]\n",
      " [ 0.31882183  0.20742235  0.07962243]]\n",
      "after whitewash\n",
      "[[ 0.92840564  0.52304611  0.9399766 ]\n",
      " [ 0.92887087  0.87889605  0.54084001]\n",
      " [ 0.65941091  0.60371118  0.53981121]]\n"
     ]
    }
   ],
   "source": [
    "import numpy as np\n",
    "import matplotlib.pyplot as plt\n",
    "import random\n",
    "\n",
    "n=3\n",
    "array = np.arange(n*3.0).reshape(n,3)   \n",
    "\n",
    "for i in range(0,n):\n",
    "    for j in range(0,3):\n",
    "        array[i][j] = random.random()\n",
    "\n",
    "def WhiteWash(x):\n",
    "    print (\"before whitewash\")\n",
    "    print (x)\n",
    "    for i in range(0,n):\n",
    "        for j in range(0,3):\n",
    "            x[i][j] = (x[i][j]+1)/2\n",
    "    print (\"after whitewash\")\n",
    "    print (x)        \n",
    "    return\n",
    "WhiteWash(array)\n"
   ]
  },
  {
   "cell_type": "code",
   "execution_count": null,
   "metadata": {
    "collapsed": true
   },
   "outputs": [],
   "source": []
  },
  {
   "cell_type": "code",
   "execution_count": null,
   "metadata": {
    "collapsed": true
   },
   "outputs": [],
   "source": []
  }
 ],
 "metadata": {
  "kernelspec": {
   "display_name": "Python 2",
   "language": "python",
   "name": "python2"
  },
  "language_info": {
   "codemirror_mode": {
    "name": "ipython",
    "version": 2
   },
   "file_extension": ".py",
   "mimetype": "text/x-python",
   "name": "python",
   "nbconvert_exporter": "python",
   "pygments_lexer": "ipython2",
   "version": "2.7.10"
  }
 },
 "nbformat": 4,
 "nbformat_minor": 0
}
